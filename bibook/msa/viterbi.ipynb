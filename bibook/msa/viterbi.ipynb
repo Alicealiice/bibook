{
 "cells": [
  {
   "cell_type": "markdown",
   "metadata": {},
   "source": [
    "# Code describing the Viterbi algorithm"
   ]
  },
  {
   "cell_type": "code",
   "execution_count": 46,
   "metadata": {
    "metadata": {}
   },
   "outputs": [
    {
     "ename": "KeyboardInterrupt",
     "evalue": "",
     "output_type": "error",
     "traceback": [
      "\u001b[0;31m---------------------------------------------------------------------------\u001b[0m",
      "\u001b[0;31mKeyboardInterrupt\u001b[0m                         Traceback (most recent call last)",
      "Cell \u001b[0;32mIn[46], line 84\u001b[0m\n\u001b[1;32m     81\u001b[0m sequence \u001b[38;5;241m=\u001b[39m \u001b[38;5;124m'\u001b[39m\u001b[38;5;124mACGGT\u001b[39m\u001b[38;5;124m'\u001b[39m\n\u001b[1;32m     83\u001b[0m \u001b[38;5;66;03m# Decode the sequence using the Viterbi algorithm\u001b[39;00m\n\u001b[0;32m---> 84\u001b[0m decoded_path \u001b[38;5;241m=\u001b[39m viterbi(profile_hmm, sequence)\n\u001b[1;32m     85\u001b[0m \u001b[38;5;28mprint\u001b[39m(\u001b[38;5;124m\"\u001b[39m\u001b[38;5;124mDecoded path:\u001b[39m\u001b[38;5;124m\"\u001b[39m, decoded_path)\n",
      "Cell \u001b[0;32mIn[46], line 41\u001b[0m, in \u001b[0;36mviterbi\u001b[0;34m(profile_hmm, sequence)\u001b[0m\n\u001b[1;32m     39\u001b[0m state \u001b[38;5;241m=\u001b[39m num_states \u001b[38;5;241m-\u001b[39m \u001b[38;5;241m1\u001b[39m\n\u001b[1;32m     40\u001b[0m base_idx \u001b[38;5;241m=\u001b[39m num_bases\n\u001b[0;32m---> 41\u001b[0m \u001b[38;5;28;01mwhile\u001b[39;00m base_idx\u001b[38;5;241m>\u001b[39m\u001b[38;5;241m=\u001b[39m\u001b[38;5;241m1\u001b[39m:\n\u001b[1;32m     42\u001b[0m     isSilent \u001b[38;5;241m=\u001b[39m \u001b[38;5;129;01mnot\u001b[39;00m profile_hmm[state][\u001b[38;5;124m'\u001b[39m\u001b[38;5;124memission\u001b[39m\u001b[38;5;124m'\u001b[39m]\n\u001b[1;32m     43\u001b[0m     \u001b[38;5;28;01mif\u001b[39;00m isSilent:\n",
      "\u001b[0;31mKeyboardInterrupt\u001b[0m: "
     ]
    }
   ],
   "source": [
    "import numpy as np\n",
    "\n",
    "def viterbi(profile_hmm, sequence):\n",
    "    num_states = len(profile_hmm)\n",
    "    num_bases = len(sequence)\n",
    "\n",
    "    # Initialize the Viterbi and path matrices\n",
    "    viterbi_matrix = np.zeros((num_states, num_bases+1))\n",
    "    viterbi_path = np.zeros((num_states, num_bases+1), dtype=int)\n",
    "\n",
    "    # Initialize the first column of the Viterbi matrix\n",
    "    viterbi_matrix[0, 0] = 1.0\n",
    "\n",
    "    # Fill the Viterbi matrix\n",
    "    for base_idx in range(1, num_bases+1):\n",
    "        for state in range(num_states):\n",
    "            transition_probs = {}\n",
    "            current_type = profile_hmm[state]['type']  # Is this a 'M', I', or 'D' state?\n",
    "            isCurrentSilent = not profile_hmm[state]['emission']\n",
    "            # Get the previous states that can transition to the current state\n",
    "            prev_abs_states = { t : state + rel for t, rel in prev_rel_states[current_type].items() if (state + rel >= 0) and (t == profile_hmm[state+rel]['type']) and (current_type in profile_hmm[state+rel]['transition'])}\n",
    "            # Get the previous base index, it is different for silent states (S, E and D)\n",
    "            prev_abs_base = base_idx if (isCurrentSilent) else base_idx -1  \n",
    "            for prev_type, prev_abs_state in prev_abs_states.items():\n",
    "                transition_prob = profile_hmm[prev_abs_state]['transition'][current_type]\n",
    "                prev_score = viterbi_matrix[prev_abs_state, prev_abs_base]\n",
    "                transition_probs[prev_abs_state] = transition_prob * prev_score\n",
    "            \n",
    "            if transition_probs:  # Check if the list is not empty\n",
    "                max_prev_state = max(transition_probs, key=transition_probs.get)\n",
    "                max_transition_prob = transition_probs[max_prev_state]\n",
    "                # print(max_prev_state, max_transition_prob)\n",
    "                emission_prob = profile_hmm[state]['emission'].get(sequence[base_idx-1], 0) if profile_hmm[state]['emission'] else 1.0\n",
    "                viterbi_matrix[state, base_idx] = max_transition_prob * emission_prob\n",
    "                viterbi_path[state, base_idx] = max_prev_state\n",
    "\n",
    "    # Trace back to find the most probable path\n",
    "    best_path = []\n",
    "    state = num_states - 1\n",
    "    base_idx = num_bases\n",
    "    while base_idx>=1:\n",
    "        isSilent = not profile_hmm[state]['emission']\n",
    "        if isSilent:\n",
    "            letter = '-'\n",
    "        else:\n",
    "            base_idx -= 1\n",
    "            letter = sequence[base_idx]\n",
    "        best_path.append((state,letter))\n",
    "        state = viterbi_path[state, base_idx]\n",
    "        print(state, base_idx, best_path[-1])\n",
    "    best_path.reverse()\n",
    "    return best_path\n",
    "\n",
    "# Example emission and transition probabilities for illustration purposes\n",
    "profile_hmm = [\n",
    "    {'type': 'S', 'emission': {}, 'transition': {'M': 0.9, 'I': 0.05, 'D': 0.05}},  # Start State\n",
    "    {'type': 'I', 'emission': {'A': 0.2, 'C': 0.3, 'G': 0.3, 'T': 0.2}, 'transition': {'M': 0.9, 'I': 0.1}},  # Insert State 1\n",
    "    {'type': 'D', 'emission': {}, 'transition': {'M': 0.9, 'D': 0.1}},  # Delete State 1\n",
    "    {'type': 'M', 'emission': {'A': 0.6, 'C': 0.1, 'G': 0.2, 'T': 0.1}, 'transition': {'M': 0.9, 'I': 0.05, 'D': 0.05}},  # Match State 1\n",
    "    {'type': 'I', 'emission': {'A': 0.2, 'C': 0.3, 'G': 0.3, 'T': 0.2}, 'transition': {'M': 0.9, 'I': 0.1}},  # Insert State 2\n",
    "    {'type': 'D', 'emission': {}, 'transition': {'M': 0.9, 'D': 0.1}},  # Delete State 2\n",
    "    {'type': 'M', 'emission': {'A': 0.2, 'C': 0.6, 'G': 0.1, 'T': 0.1}, 'transition': {'M': 0.9, 'I': 0.05, 'D': 0.05}},  # Match State 2\n",
    "    {'type': 'I', 'emission': {'A': 0.2, 'C': 0.3, 'G': 0.3, 'T': 0.2}, 'transition': {'M': 0.9, 'I': 0.1}},  # Insert State 3\n",
    "    {'type': 'D', 'emission': {}, 'transition': {'M': 0.9, 'D': 0.1}},  # Delete State 3\n",
    "    {'type': 'M', 'emission': {'A': 0.1, 'C': 0.2, 'G': 0.5, 'T': 0.2}, 'transition': {'M': 0.9, 'I': 0.05, 'D': 0.05}},  # Match State 3\n",
    "    {'type': 'I', 'emission': {'A': 0.2, 'C': 0.3, 'G': 0.3, 'T': 0.2}, 'transition': {'M': 0.9, 'D': 0.1}},   # Insert State 4\n",
    "    {'type': 'D', 'emission': {}, 'transition': {'E': 1.0}},  # Delete State 4\n",
    "    {'type': 'M', 'emission': {'A': 0.2, 'C': 0.2, 'G': 0.2, 'T': 0.4}, 'transition': {'E': 1.0}},  # Match State 4\n",
    "    {'type': 'I', 'emission': {'A': 0.2, 'C': 0.3, 'G': 0.3, 'T': 0.2}, 'transition': {'E': 1.0}},   # Insert State 5\n",
    "    {'type': 'E', 'emission': {}, 'transition': {}},  # End State \n",
    "]\n",
    "\n",
    "prev_rel_states = {  # Relative position to state of a certain type\n",
    "    'S': {},\n",
    "    'M': {'S': -3, 'M':-3, 'I':-2, 'D':-1},\n",
    "    'I': {'S': -1, 'M':-1, 'I':0         },\n",
    "    'D': {'S': -2, 'M':-4,         'D':-3},\n",
    "    'E': {         'M':-2, 'I':-1, 'D':-3},\n",
    "}\n",
    "\n",
    "# Example sequence to be decoded\n",
    "sequence = 'ACGT'\n",
    "\n",
    "# Decode the sequence using the Viterbi algorithm\n",
    "decoded_path = viterbi(profile_hmm, sequence)\n",
    "print(\"Decoded path:\", decoded_path)\n"
   ]
  }
 ],
 "metadata": {
  "kernelspec": {
   "display_name": "jb",
   "language": "python",
   "name": "python3"
  },
  "language_info": {
   "codemirror_mode": {
    "name": "ipython",
    "version": 3
   },
   "file_extension": ".py",
   "mimetype": "text/x-python",
   "name": "python",
   "nbconvert_exporter": "python",
   "pygments_lexer": "ipython3",
   "version": "3.11.8"
  }
 },
 "nbformat": 4,
 "nbformat_minor": 2
}
