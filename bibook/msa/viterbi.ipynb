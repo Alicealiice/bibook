{
 "cells": [
  {
   "cell_type": "markdown",
   "metadata": {},
   "source": [
    "# Code describing the Viterbi algorithm"
   ]
  },
  {
   "cell_type": "code",
   "execution_count": 11,
   "metadata": {
    "metadata": {}
   },
   "outputs": [
    {
     "name": "stdout",
     "output_type": "stream",
     "text": [
      "Decoded path: [0, 0, 0, 0, 0, 0, 0, 0, 0]\n"
     ]
    }
   ],
   "source": [
    "def viterbi(profile_hmm, sequence):\n",
    "    num_states = len(profile_hmm)\n",
    "    num_bases = len(sequence)\n",
    "\n",
    "    # Initialize the Viterbi and path matrices\n",
    "    viterbi_matrix = np.zeros((num_states, num_bases+1))\n",
    "    viterbi_path = np.zeros((num_states, num_bases+1), dtype=int)\n",
    "\n",
    "    # Initialize the first column of the Viterbi matrix\n",
    "    viterbi_matrix[0, 0] = 1.0\n",
    "\n",
    "    # Fill the Viterbi matrix\n",
    "    for base_idx in range(1, num_bases+1):\n",
    "        for state in range(num_states):\n",
    "            transition_probs = {}\n",
    "            current_type = profile_hmm[state]['type']  # Is this a 'M', I', or 'D' state?\n",
    "            prev_abs_states = { t : state + rel for t, rel in prev_rel_states[current_type].items() if (t in profile_hmm[state]['transition']) and state + rel >= 0}\n",
    "            prev_abs_base = base_idx -1 if (current_type in ['D','E' ]) else base_idx - 2 \n",
    "            for prev_type, prev_abs_state in prev_abs_states.items():\n",
    "                transition_prob = profile_hmm[prev_abs_state]['transition'][current_type]\n",
    "                prev_score = viterbi_matrix[prev_abs_state, prev_abs_base]\n",
    "                transition_probs[prev_abs_base] = transition_prob * prev_score\n",
    "            \n",
    "            if transition_probs:  # Check if the list is not empty\n",
    "                max_prev_state = max(transition_probs)\n",
    "                max_transition_prob = transition_probs[max_prev_state]\n",
    "                emission_prob = profile_hmm[state]['emission'].get(sequence[base_idx-1], 0) if profile_hmm[state]['emission'] else 1.0\n",
    "                viterbi_matrix[state, base_idx] = max_transition_prob * emission_prob\n",
    "                viterbi_path[state, base_idx] = max_prev_state\n",
    "\n",
    "    # Trace back to find the most probable path\n",
    "    best_path = []\n",
    "    last_state = np.argmax(viterbi_matrix[:, -1])\n",
    "    best_path.append(last_state)\n",
    "\n",
    "    for base_idx in range(num_bases, 0, -1):\n",
    "        last_state = viterbi_path[last_state, base_idx]\n",
    "        best_path.append(last_state)\n",
    "\n",
    "    best_path.reverse()\n",
    "    return best_path\n",
    "\n",
    "# Example emission and transition probabilities for illustration purposes\n",
    "profile_hmm = [\n",
    "    {'type': \"S\", 'emission': {}, 'transition': {'M': 0.9, 'I': 0.05, 'D': 0.05}},  # Start State\n",
    "    {'type': 'I', 'emission': {'A': 0.2, 'C': 0.3, 'G': 0.3, 'T': 0.2}, 'transition': {'M': 0.9, 'I': 0.1}},  # Insert State 1\n",
    "    {'type': 'D', 'emission': {}, 'transition': {'M': 0.9, 'D': 0.1}},  # Delete State 1\n",
    "    {'type': 'M', 'emission': {'A': 0.3, 'C': 0.2, 'G': 0.2, 'T': 0.3}, 'transition': {'M': 0.9, 'I': 0.05, 'D': 0.05}},  # Match State 1\n",
    "    {'type': 'I', 'emission': {'A': 0.2, 'C': 0.3, 'G': 0.3, 'T': 0.2}, 'transition': {'M': 0.9, 'I': 0.1}},  # Insert State 2\n",
    "    {'type': 'D', 'emission': {}, 'transition': {'M': 0.9, 'D': 0.1}},  # Delete State 2\n",
    "    {'type': 'M', 'emission': {'A': 0.3, 'C': 0.2, 'G': 0.2, 'T': 0.3}, 'transition': {'M': 0.9, 'I': 0.05, 'D': 0.05}},  # Match State 2\n",
    "    {'type': 'I', 'emission': {'A': 0.2, 'C': 0.3, 'G': 0.3, 'T': 0.2}, 'transition': {'M': 0.9, 'I': 0.1}},  # Insert State 3\n",
    "    {'type': 'D', 'emission': {}, 'transition': {'M': 0.9, 'D': 0.1}},  # Delete State 3\n",
    "    {'type': 'M', 'emission': {'A': 0.3, 'C': 0.2, 'G': 0.2, 'T': 0.3}, 'transition': {'M': 0.9, 'I': 0.05, 'D': 0.05}},  # Match State 3\n",
    "    {'type': 'I', 'emission': {'A': 0.2, 'C': 0.3, 'G': 0.3, 'T': 0.2}, 'transition': {'M': 0.9, 'I': 0.1}},   # Insert State 4\n",
    "    {'type': 'D', 'emission': {}, 'transition': {'M': 0.9, 'D': 0.1}},  # Delete State 4\n",
    "    {'type': 'M', 'emission': {'A': 0.3, 'C': 0.2, 'G': 0.2, 'T': 0.3}, 'transition': {'M': 0.9, 'I': 0.05, 'D': 0.05}},  # Match State 4\n",
    "    {'type': 'E', 'emission': {'A': 0.3, 'C': 0.2, 'G': 0.2, 'T': 0.3}, 'transition': {}},  # End State \n",
    "]\n",
    "\n",
    "prev_rel_states = {  # Relative position to the current state of a certain type\n",
    "    'S': {},\n",
    "    'M': {'S': -3, 'M':-3, 'I':-2, 'D':-1},\n",
    "    'I': {'S': -1, 'M':-1, 'I':0},\n",
    "    'D': {'S': -2, 'M':-2, 'D':-3},\n",
    "    'E': {'M':-1, 'I':-3, 'D':-2},\n",
    "}\n",
    "\n",
    "# Example sequence to be decoded\n",
    "sequence = 'ACGTACGT'\n",
    "\n",
    "# Decode the sequence using the Viterbi algorithm\n",
    "decoded_path = viterbi(profile_hmm, sequence)\n",
    "print(\"Decoded path:\", decoded_path)\n"
   ]
  }
 ],
 "metadata": {
  "kernelspec": {
   "display_name": "jb",
   "language": "python",
   "name": "python3"
  },
  "language_info": {
   "codemirror_mode": {
    "name": "ipython",
    "version": 3
   },
   "file_extension": ".py",
   "mimetype": "text/x-python",
   "name": "python",
   "nbconvert_exporter": "python",
   "pygments_lexer": "ipython3",
   "version": "3.11.8"
  }
 },
 "nbformat": 4,
 "nbformat_minor": 2
}
