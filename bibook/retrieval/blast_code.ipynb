{
 "cells": [
  {
   "cell_type": "markdown",
   "metadata": {},
   "source": [
    "# Code for BLAST-styled queries "
   ]
  },
  {
   "cell_type": "markdown",
   "metadata": {},
   "source": [
    "build_index function: This function creates an index from a given sequence for subsequences (k-mers) of length k. Each k-mer is mapped to all positions where it appears in the sequence."
   ]
  },
  {
   "cell_type": "code",
   "execution_count": 5,
   "metadata": {},
   "outputs": [],
   "source": [
    "def build_index(sequences, k):\n",
    "    \"\"\"Builds indexes from multiple sequences for subsequences of length k.\"\"\"\n",
    "    index = {}\n",
    "    for seq_id, sequence in enumerate(sequences):\n",
    "        for i in range(len(sequence) - k + 1):\n",
    "            k_mer = sequence[i:i+k]\n",
    "            if k_mer in index:\n",
    "                index[k_mer].append((seq_id,i))\n",
    "            else:\n",
    "                index[k_mer] = [(seq_id,i)]\n",
    "    return index"
   ]
  },
  {
   "cell_type": "markdown",
   "metadata": {},
   "source": [
    "query_index function: This function takes a query sequence and finds all k-mers in the query that are present in the index, along with their positions in the original sequence."
   ]
  },
  {
   "cell_type": "code",
   "execution_count": 6,
   "metadata": {},
   "outputs": [],
   "source": [
    "def query_index(query, index, k):\n",
    "    \"\"\"Queries multiple indexes and finds positions where the query's k-mers match the k-mers in the indexes.\"\"\"\n",
    "    matches = {}\n",
    "    for i in range(len(query) - k + 1):\n",
    "        k_mer = query[i:i+k]\n",
    "        if k_mer in index:\n",
    "            if k_mer in matches:\n",
    "                matches[k_mer].append(index[k_mer])\n",
    "            else:\n",
    "                matches[k_mer] = [index[k_mer]]\n",
    "    return matches"
   ]
  },
  {
   "cell_type": "code",
   "execution_count": 12,
   "metadata": {},
   "outputs": [
    {
     "name": "stdout",
     "output_type": "stream",
     "text": [
      "Indexes: {'APE': [(0, 0), (2, 4)], 'PEP': [(0, 1), (1, 0), (2, 5)], 'EPT': [(0, 2), (1, 1)], 'PTI': [(0, 3), (1, 2)], 'TID': [(0, 4), (1, 3), (2, 0)], 'IDE': [(0, 5), (1, 4), (2, 1)], 'DEA': [(1, 5), (2, 2)], 'EAP': [(2, 3)]}\n",
      "Matches: {'PEP': [[(0, 1), (1, 0), (2, 5)]], 'EPT': [[(0, 2), (1, 1)]], 'PTI': [[(0, 3), (1, 2)]], 'TID': [[(0, 4), (1, 3), (2, 0)]]}\n",
      "Merged Alignments: ['PEPTID', 'PEPTID', 'TID--PEP']\n"
     ]
    }
   ],
   "source": [
    "\n",
    "def merge_matches(matches, k):\n",
    "    \"\"\"Merges all k-mer matches into continuous sequences for each database sequence.\"\"\"\n",
    "    rearanged_matches = {}\n",
    "    for k_mer, entries in matches.items():\n",
    "        for seqix,pos in entries[0]:\n",
    "            if seqix not in rearanged_matches:\n",
    "                rearanged_matches[seqix] = []\n",
    "            rearanged_matches[seqix].append((pos, k_mer))\n",
    "    matches = []\n",
    "    for seqix, pos_kmer in rearanged_matches.items():\n",
    "        pos_kmer.sort() # sort by position\n",
    "        match_start = pos_kmer[0][0]\n",
    "        match_end = pos_kmer[-1][0] + k\n",
    "        match = \"-\" * (match_end - match_start)\n",
    "        for pos, kmer in pos_kmer:\n",
    "            cur_pos = pos - match_start\n",
    "            # print(cur_pos, kmer, match[cur_pos:cur_pos+k])\n",
    "            match = match[:cur_pos] + kmer + match[cur_pos+k:]\n",
    "        matches.append(match)\n",
    "    return matches\n",
    "\n",
    "# Example sequences in the database\n",
    "sequences = [\"APEPTIDE\", \"PEPTIDEA\", \"TIDEAPEP\"]\n",
    "\n",
    "# Query sequence\n",
    "query = \"PEPTID\"\n",
    "\n",
    "# Build index for a k-mer length of 3 from multiple sequences\n",
    "k = 3\n",
    "index = build_index(sequences, k)\n",
    "print(\"Indexes:\", index)\n",
    "\n",
    "# Query the indexes\n",
    "matches = query_index(query, index, k)\n",
    "print(\"Matches:\", matches)\n",
    "\n",
    "# Merge matches into continuous sequences\n",
    "merged_alignments = merge_matches(matches, k)\n",
    "print(\"Merged Alignments:\", merged_alignments)"
   ]
  }
 ],
 "metadata": {
  "kernelspec": {
   "display_name": "jb",
   "language": "python",
   "name": "python3"
  },
  "language_info": {
   "codemirror_mode": {
    "name": "ipython",
    "version": 3
   },
   "file_extension": ".py",
   "mimetype": "text/x-python",
   "name": "python",
   "nbconvert_exporter": "python",
   "pygments_lexer": "ipython3",
   "version": "3.11.8"
  }
 },
 "nbformat": 4,
 "nbformat_minor": 2
}
